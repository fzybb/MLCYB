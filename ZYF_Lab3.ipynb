{
  "nbformat": 4,
  "nbformat_minor": 0,
  "metadata": {
    "colab": {
      "name": "ZYF_Lab3.ipynb",
      "provenance": [],
      "collapsed_sections": [],
      "machine_shape": "hm"
    },
    "kernelspec": {
      "name": "python3",
      "display_name": "Python 3"
    },
    "language_info": {
      "name": "python"
    },
    "accelerator": "GPU"
  },
  "cells": [
    {
      "cell_type": "code",
      "source": [
        "import os\n",
        "import sys\n",
        "import keras\n",
        "import keras.backend as K\n",
        "from keras import metrics\n",
        "from numpy.lib.arraysetops import unique\n",
        "import gdown\n",
        "import numpy as np\n",
        "import tempfile\n",
        "import copy\n",
        "import h5py\n",
        "import tensorflow as tf\n",
        "import matplotlib.pyplot as plt\n",
        "import warnings\n",
        "\n",
        "from google.colab import drive\n",
        "drive.mount('/content/drive')"
      ],
      "metadata": {
        "colab": {
          "base_uri": "https://localhost:8080/"
        },
        "id": "fOZ_9A9Jx37B",
        "outputId": "2488366d-aa3c-42a8-d312-2be2d3567291"
      },
      "execution_count": 58,
      "outputs": [
        {
          "output_type": "stream",
          "name": "stdout",
          "text": [
            "Drive already mounted at /content/drive; to attempt to forcibly remount, call drive.mount(\"/content/drive\", force_remount=True).\n"
          ]
        }
      ]
    },
    {
      "cell_type": "code",
      "source": [
        "def data_loader(filepath):\n",
        "    data = h5py.File(filepath, 'r')\n",
        "    x = np.array(data['data']).transpose((0,2,3,1))\n",
        "    y = np.array(data['label'])\n",
        "    return x, y"
      ],
      "metadata": {
        "id": "4XYpJgP99UHZ"
      },
      "execution_count": 59,
      "outputs": []
    },
    {
      "cell_type": "code",
      "source": [
        "#Data Loading\n",
        "clean_x_test, clean_y_test = data_loader('/content/drive/MyDrive/lab3/valid.h5')\n",
        "bad_x_test, bad_y_test = data_loader('/content/drive/MyDrive/lab3/bd_valid.h5')\n",
        "bd_test, bd_test_l = data_loader('/content/drive/MyDrive/lab3/bd_test.h5')\n",
        "test, test_l = data_loader('/content/drive/MyDrive/lab3/test.h5')\n",
        "\n",
        "bad_model = keras.models.load_model('/content/drive/MyDrive/lab3/bd_net.h5')"
      ],
      "metadata": {
        "id": "sdP7e7P69Mjz"
      },
      "execution_count": 60,
      "outputs": []
    },
    {
      "cell_type": "code",
      "source": [
        "ori_clean_acc = 0\n",
        "def evaluation(model, clean_x_test, clean_y_test, bad_x_test, bad_y_test):\n",
        "    clean_label_p = np.argmax(model.predict(clean_x_test),axis=1)\n",
        "    ori_clean_acc = np.mean(np.equal(clean_label_p, clean_y_test))*100\n",
        "    print('Original Clean accuracy:', ori_clean_acc)\n",
        "    \n",
        "    bad_label_p = np.argmax(model.predict(bad_x_test),axis=1)\n",
        "    asr = np.mean(np.equal(bad_label_p, bad_y_test))*100\n",
        "    print('Attack Success Rate:', asr)"
      ],
      "metadata": {
        "id": "KjIE0d9mQg59"
      },
      "execution_count": 61,
      "outputs": []
    },
    {
      "cell_type": "code",
      "source": [
        "evaluation(bad_model, clean_x_test, clean_y_test, bad_x_test, bad_y_test)\n",
        "print(bad_model.summary())"
      ],
      "metadata": {
        "colab": {
          "base_uri": "https://localhost:8080/"
        },
        "id": "pScZelR2QZQC",
        "outputId": "c54799ad-1a64-4354-873f-46b9df7a74fa"
      },
      "execution_count": 62,
      "outputs": [
        {
          "output_type": "stream",
          "name": "stdout",
          "text": [
            "Original Clean accuracy: 98.64899974019225\n",
            "Attack Success Rate: 100.0\n",
            "Model: \"model_1\"\n",
            "__________________________________________________________________________________________________\n",
            " Layer (type)                   Output Shape         Param #     Connected to                     \n",
            "==================================================================================================\n",
            " input (InputLayer)             [(None, 55, 47, 3)]  0           []                               \n",
            "                                                                                                  \n",
            " conv_1 (Conv2D)                (None, 52, 44, 20)   980         ['input[0][0]']                  \n",
            "                                                                                                  \n",
            " pool_1 (MaxPooling2D)          (None, 26, 22, 20)   0           ['conv_1[0][0]']                 \n",
            "                                                                                                  \n",
            " conv_2 (Conv2D)                (None, 24, 20, 40)   7240        ['pool_1[0][0]']                 \n",
            "                                                                                                  \n",
            " pool_2 (MaxPooling2D)          (None, 12, 10, 40)   0           ['conv_2[0][0]']                 \n",
            "                                                                                                  \n",
            " conv_3 (Conv2D)                (None, 10, 8, 60)    21660       ['pool_2[0][0]']                 \n",
            "                                                                                                  \n",
            " pool_3 (MaxPooling2D)          (None, 5, 4, 60)     0           ['conv_3[0][0]']                 \n",
            "                                                                                                  \n",
            " conv_4 (Conv2D)                (None, 4, 3, 80)     19280       ['pool_3[0][0]']                 \n",
            "                                                                                                  \n",
            " flatten_1 (Flatten)            (None, 1200)         0           ['pool_3[0][0]']                 \n",
            "                                                                                                  \n",
            " flatten_2 (Flatten)            (None, 960)          0           ['conv_4[0][0]']                 \n",
            "                                                                                                  \n",
            " fc_1 (Dense)                   (None, 160)          192160      ['flatten_1[0][0]']              \n",
            "                                                                                                  \n",
            " fc_2 (Dense)                   (None, 160)          153760      ['flatten_2[0][0]']              \n",
            "                                                                                                  \n",
            " add_1 (Add)                    (None, 160)          0           ['fc_1[0][0]',                   \n",
            "                                                                  'fc_2[0][0]']                   \n",
            "                                                                                                  \n",
            " activation_1 (Activation)      (None, 160)          0           ['add_1[0][0]']                  \n",
            "                                                                                                  \n",
            " output (Dense)                 (None, 1283)         206563      ['activation_1[0][0]']           \n",
            "                                                                                                  \n",
            "==================================================================================================\n",
            "Total params: 601,643\n",
            "Trainable params: 601,643\n",
            "Non-trainable params: 0\n",
            "__________________________________________________________________________________________________\n",
            "None\n"
          ]
        }
      ]
    },
    {
      "cell_type": "code",
      "source": [
        "# Prunning\n",
        "bad_model_copied = keras.models.clone_model(bad_model)\n",
        "bad_model_copied.load_weights('/content/drive/MyDrive/lab3/bd_weights.h5') "
      ],
      "metadata": {
        "id": "ztF_fB5XuYOi"
      },
      "execution_count": 63,
      "outputs": []
    },
    {
      "cell_type": "code",
      "source": [
        "output=bad_model_copied.layers[6].output\n",
        "prediction=keras.models.Model(inputs=bad_model_copied.input,outputs=output).predict(clean_x_test)  \n",
        "channels = np.argsort(np.mean(prediction,axis=(0,1,2)))\n",
        "temp_acc = []\n",
        "asr_rate = []\n",
        "flag2 = 1\n",
        "flag4 = 1\n",
        "flag10 = 1\n",
        "zeroWeight = bad_model_copied.layers[5].get_weights()[0]\n",
        "zeroBias = bad_model_copied.layers[5].get_weights()[1]\n",
        "\n",
        "for i in channels:\n",
        "  zeroWeight[:,:,:,i] = 0\n",
        "  zeroBias[i] = 0\n",
        "  bad_model_copied.layers[5].set_weights([zeroWeight,zeroBias])\n",
        "  \n",
        "  temp_accuracy = np.mean(np.equal(np.argmax(bad_model_copied.predict(clean_x_test), axis=1), clean_y_test))*100\n",
        "  asr = np.mean(np.equal(np.argmax(bad_model_copied.predict(bad_x_test), axis=1), bad_y_test))*100\n",
        "  temp_acc.append(temp_accuracy)\n",
        "  asr_rate.append(asr)\n",
        "  print(\"channel \",i,\": \",\"The accuracy: \",temp_accuracy,\"  The atk_rate: \",asr)\n",
        "\n",
        "  drop = ori_clean_acc - temp_accuracy\n",
        "\n",
        "  if drop >= 2 and flag2:\n",
        "    bad_model_copied.save('/content/drive/MyDrive/lab3/X2_model.h5')\n",
        "    flag2 = 0\n",
        "    print('X2_model saved')\n",
        "  if drop >= 4 and flag4:\n",
        "    bad_model_copied.save('/content/drive/MyDrive/lab3/X4_model.h5')\n",
        "    flag4 = 0\n",
        "    print('X4_model saved')\n",
        "  if drop >= 10 and flag10:\n",
        "    bad_model_copied.save('/content/drive/MyDrive/lab3/X10_model.h5')\n",
        "    flag10 = 0\n",
        "    print('X10_model saved')\n",
        "\n",
        "  keras.backend.clear_session()"
      ],
      "metadata": {
        "id": "4U_G8gNO8JYK",
        "colab": {
          "base_uri": "https://localhost:8080/"
        },
        "outputId": "64810eb3-3b8b-48c6-9672-e7f3085ceb3f"
      },
      "execution_count": 64,
      "outputs": [
        {
          "output_type": "stream",
          "name": "stdout",
          "text": [
            "channel  0 :  The accuracy:  98.64899974019225   The atk_rate:  100.0\n",
            "channel  26 :  The accuracy:  98.64899974019225   The atk_rate:  100.0\n",
            "channel  27 :  The accuracy:  98.64899974019225   The atk_rate:  100.0\n",
            "channel  30 :  The accuracy:  98.64899974019225   The atk_rate:  100.0\n",
            "channel  31 :  The accuracy:  98.64899974019225   The atk_rate:  100.0\n",
            "channel  33 :  The accuracy:  98.64899974019225   The atk_rate:  100.0\n",
            "channel  34 :  The accuracy:  98.64899974019225   The atk_rate:  100.0\n",
            "channel  36 :  The accuracy:  98.64899974019225   The atk_rate:  100.0\n",
            "channel  37 :  The accuracy:  98.64899974019225   The atk_rate:  100.0\n",
            "channel  38 :  The accuracy:  98.64899974019225   The atk_rate:  100.0\n",
            "channel  25 :  The accuracy:  98.64899974019225   The atk_rate:  100.0\n",
            "channel  39 :  The accuracy:  98.64899974019225   The atk_rate:  100.0\n",
            "channel  41 :  The accuracy:  98.64899974019225   The atk_rate:  100.0\n",
            "channel  44 :  The accuracy:  98.64899974019225   The atk_rate:  100.0\n",
            "channel  45 :  The accuracy:  98.64899974019225   The atk_rate:  100.0\n",
            "channel  47 :  The accuracy:  98.64899974019225   The atk_rate:  100.0\n",
            "channel  48 :  The accuracy:  98.64899974019225   The atk_rate:  100.0\n",
            "channel  49 :  The accuracy:  98.64899974019225   The atk_rate:  100.0\n",
            "channel  50 :  The accuracy:  98.64899974019225   The atk_rate:  100.0\n",
            "channel  53 :  The accuracy:  98.64899974019225   The atk_rate:  100.0\n",
            "channel  55 :  The accuracy:  98.64899974019225   The atk_rate:  100.0\n",
            "channel  40 :  The accuracy:  98.64899974019225   The atk_rate:  100.0\n",
            "channel  24 :  The accuracy:  98.64899974019225   The atk_rate:  100.0\n",
            "channel  59 :  The accuracy:  98.64899974019225   The atk_rate:  100.0\n",
            "channel  9 :  The accuracy:  98.64899974019225   The atk_rate:  100.0\n",
            "channel  2 :  The accuracy:  98.64899974019225   The atk_rate:  100.0\n",
            "channel  12 :  The accuracy:  98.64899974019225   The atk_rate:  100.0\n",
            "channel  13 :  The accuracy:  98.64899974019225   The atk_rate:  100.0\n",
            "channel  17 :  The accuracy:  98.64899974019225   The atk_rate:  100.0\n",
            "channel  14 :  The accuracy:  98.64899974019225   The atk_rate:  100.0\n",
            "channel  15 :  The accuracy:  98.64899974019225   The atk_rate:  100.0\n",
            "channel  23 :  The accuracy:  98.64899974019225   The atk_rate:  100.0\n",
            "channel  6 :  The accuracy:  98.64899974019225   The atk_rate:  100.0\n",
            "channel  51 :  The accuracy:  98.64033948211657   The atk_rate:  100.0\n",
            "channel  32 :  The accuracy:  98.64033948211657   The atk_rate:  100.0\n",
            "channel  22 :  The accuracy:  98.63167922404088   The atk_rate:  100.0\n",
            "channel  21 :  The accuracy:  98.65765999826795   The atk_rate:  100.0\n",
            "channel  20 :  The accuracy:  98.64899974019225   The atk_rate:  100.0\n",
            "channel  19 :  The accuracy:  98.6056984498138   The atk_rate:  100.0\n",
            "channel  43 :  The accuracy:  98.57105741751104   The atk_rate:  100.0\n",
            "channel  58 :  The accuracy:  98.53641638520828   The atk_rate:  100.0\n",
            "channel  3 :  The accuracy:  98.19000606218066   The atk_rate:  100.0\n",
            "channel  42 :  The accuracy:  97.65307006148784   The atk_rate:  100.0\n",
            "channel  1 :  The accuracy:  97.50584567420108   The atk_rate:  100.0\n",
            "channel  29 :  The accuracy:  95.75647354291158   The atk_rate:  100.0\n",
            "channel  16 :  The accuracy:  95.20221702606739   The atk_rate:  99.9913397419243\n",
            "channel  56 :  The accuracy:  94.7172425738287   The atk_rate:  99.9913397419243\n",
            "channel  46 :  The accuracy:  92.09318437689443   The atk_rate:  99.9913397419243\n",
            "channel  5 :  The accuracy:  91.49562656967177   The atk_rate:  99.9913397419243\n",
            "channel  8 :  The accuracy:  91.01931237550879   The atk_rate:  99.98267948384861\n",
            "channel  11 :  The accuracy:  89.17467740538669   The atk_rate:  80.73958603966398\n",
            "channel  54 :  The accuracy:  84.43751623798389   The atk_rate:  77.015675067117\n",
            "channel  10 :  The accuracy:  76.48739932449988   The atk_rate:  35.71490430414826\n",
            "channel  28 :  The accuracy:  54.8627349095003   The atk_rate:  6.954187234779596\n",
            "channel  35 :  The accuracy:  27.08928726076037   The atk_rate:  0.4243526457088421\n",
            "channel  18 :  The accuracy:  13.87373343725643   The atk_rate:  0.0\n",
            "channel  4 :  The accuracy:  7.101411622066338   The atk_rate:  0.0\n",
            "channel  7 :  The accuracy:  1.5501861955486274   The atk_rate:  0.0\n",
            "channel  52 :  The accuracy:  0.7188014202823244   The atk_rate:  0.0\n",
            "channel  57 :  The accuracy:  0.0779423226812159   The atk_rate:  0.0\n"
          ]
        }
      ]
    },
    {
      "cell_type": "code",
      "source": [
        "#Good Net\n",
        "unique_y = set(clean_y_test)  \n",
        "print(len(unique_y))"
      ],
      "metadata": {
        "id": "nvailCEpw0-8",
        "colab": {
          "base_uri": "https://localhost:8080/"
        },
        "outputId": "857101b5-c8f0-4a44-be80-9a82ec1322c8"
      },
      "execution_count": 65,
      "outputs": [
        {
          "output_type": "stream",
          "name": "stdout",
          "text": [
            "1283\n"
          ]
        }
      ]
    },
    {
      "cell_type": "code",
      "source": [
        "X2_model = keras.models.load_model('/content/drive/MyDrive/lab3/X2_model.h5')\n",
        "X4_model = keras.models.load_model('/content/drive/MyDrive/lab3/X4_model.h5')\n",
        "X10_model = keras.models.load_model('/content/drive/MyDrive/lab3/X10_model.h5')\n",
        "evaluation(X2_model,test,test_l,bd_test,bd_test_l)\n",
        "evaluation(X4_model,test,test_l,bd_test,bd_test_l)\n",
        "evaluation(X10_model,test,test_l,bd_test,bd_test_l)"
      ],
      "metadata": {
        "id": "koMWVIHiMovI",
        "colab": {
          "base_uri": "https://localhost:8080/",
          "height": 401
        },
        "outputId": "430b91dc-f7c8-4705-e7fb-587966e520b4"
      },
      "execution_count": 66,
      "outputs": [
        {
          "output_type": "error",
          "ename": "OSError",
          "evalue": "ignored",
          "traceback": [
            "\u001b[0;31m---------------------------------------------------------------------------\u001b[0m",
            "\u001b[0;31mOSError\u001b[0m                                   Traceback (most recent call last)",
            "\u001b[0;32m<ipython-input-66-293f172d0cb2>\u001b[0m in \u001b[0;36m<module>\u001b[0;34m()\u001b[0m\n\u001b[0;32m----> 1\u001b[0;31m \u001b[0mX2_model\u001b[0m \u001b[0;34m=\u001b[0m \u001b[0mkeras\u001b[0m\u001b[0;34m.\u001b[0m\u001b[0mmodels\u001b[0m\u001b[0;34m.\u001b[0m\u001b[0mload_model\u001b[0m\u001b[0;34m(\u001b[0m\u001b[0;34m'/content/drive/MyDrive/lab3/X2_model.h5'\u001b[0m\u001b[0;34m)\u001b[0m\u001b[0;34m\u001b[0m\u001b[0;34m\u001b[0m\u001b[0m\n\u001b[0m\u001b[1;32m      2\u001b[0m \u001b[0mX4_model\u001b[0m \u001b[0;34m=\u001b[0m \u001b[0mkeras\u001b[0m\u001b[0;34m.\u001b[0m\u001b[0mmodels\u001b[0m\u001b[0;34m.\u001b[0m\u001b[0mload_model\u001b[0m\u001b[0;34m(\u001b[0m\u001b[0;34m'/content/drive/MyDrive/lab3/X4_model.h5'\u001b[0m\u001b[0;34m)\u001b[0m\u001b[0;34m\u001b[0m\u001b[0;34m\u001b[0m\u001b[0m\n\u001b[1;32m      3\u001b[0m \u001b[0mX10_model\u001b[0m \u001b[0;34m=\u001b[0m \u001b[0mkeras\u001b[0m\u001b[0;34m.\u001b[0m\u001b[0mmodels\u001b[0m\u001b[0;34m.\u001b[0m\u001b[0mload_model\u001b[0m\u001b[0;34m(\u001b[0m\u001b[0;34m'/content/drive/MyDrive/lab3/X10_model.h5'\u001b[0m\u001b[0;34m)\u001b[0m\u001b[0;34m\u001b[0m\u001b[0;34m\u001b[0m\u001b[0m\n\u001b[1;32m      4\u001b[0m \u001b[0mevaluation\u001b[0m\u001b[0;34m(\u001b[0m\u001b[0mX2_model\u001b[0m\u001b[0;34m,\u001b[0m\u001b[0mtest\u001b[0m\u001b[0;34m,\u001b[0m\u001b[0mtest_l\u001b[0m\u001b[0;34m,\u001b[0m\u001b[0mbd_test\u001b[0m\u001b[0;34m,\u001b[0m\u001b[0mbd_test_l\u001b[0m\u001b[0;34m)\u001b[0m\u001b[0;34m\u001b[0m\u001b[0;34m\u001b[0m\u001b[0m\n\u001b[1;32m      5\u001b[0m \u001b[0mevaluation\u001b[0m\u001b[0;34m(\u001b[0m\u001b[0mX4_model\u001b[0m\u001b[0;34m,\u001b[0m\u001b[0mtest\u001b[0m\u001b[0;34m,\u001b[0m\u001b[0mtest_l\u001b[0m\u001b[0;34m,\u001b[0m\u001b[0mbd_test\u001b[0m\u001b[0;34m,\u001b[0m\u001b[0mbd_test_l\u001b[0m\u001b[0;34m)\u001b[0m\u001b[0;34m\u001b[0m\u001b[0;34m\u001b[0m\u001b[0m\n",
            "\u001b[0;32m/usr/local/lib/python3.7/dist-packages/keras/utils/traceback_utils.py\u001b[0m in \u001b[0;36merror_handler\u001b[0;34m(*args, **kwargs)\u001b[0m\n\u001b[1;32m     65\u001b[0m     \u001b[0;32mexcept\u001b[0m \u001b[0mException\u001b[0m \u001b[0;32mas\u001b[0m \u001b[0me\u001b[0m\u001b[0;34m:\u001b[0m  \u001b[0;31m# pylint: disable=broad-except\u001b[0m\u001b[0;34m\u001b[0m\u001b[0;34m\u001b[0m\u001b[0m\n\u001b[1;32m     66\u001b[0m       \u001b[0mfiltered_tb\u001b[0m \u001b[0;34m=\u001b[0m \u001b[0m_process_traceback_frames\u001b[0m\u001b[0;34m(\u001b[0m\u001b[0me\u001b[0m\u001b[0;34m.\u001b[0m\u001b[0m__traceback__\u001b[0m\u001b[0;34m)\u001b[0m\u001b[0;34m\u001b[0m\u001b[0;34m\u001b[0m\u001b[0m\n\u001b[0;32m---> 67\u001b[0;31m       \u001b[0;32mraise\u001b[0m \u001b[0me\u001b[0m\u001b[0;34m.\u001b[0m\u001b[0mwith_traceback\u001b[0m\u001b[0;34m(\u001b[0m\u001b[0mfiltered_tb\u001b[0m\u001b[0;34m)\u001b[0m \u001b[0;32mfrom\u001b[0m \u001b[0;32mNone\u001b[0m\u001b[0;34m\u001b[0m\u001b[0;34m\u001b[0m\u001b[0m\n\u001b[0m\u001b[1;32m     68\u001b[0m     \u001b[0;32mfinally\u001b[0m\u001b[0;34m:\u001b[0m\u001b[0;34m\u001b[0m\u001b[0;34m\u001b[0m\u001b[0m\n\u001b[1;32m     69\u001b[0m       \u001b[0;32mdel\u001b[0m \u001b[0mfiltered_tb\u001b[0m\u001b[0;34m\u001b[0m\u001b[0;34m\u001b[0m\u001b[0m\n",
            "\u001b[0;32m/usr/local/lib/python3.7/dist-packages/keras/saving/save.py\u001b[0m in \u001b[0;36mload_model\u001b[0;34m(filepath, custom_objects, compile, options)\u001b[0m\n\u001b[1;32m    207\u001b[0m         \u001b[0;32mif\u001b[0m \u001b[0misinstance\u001b[0m\u001b[0;34m(\u001b[0m\u001b[0mfilepath\u001b[0m\u001b[0;34m,\u001b[0m \u001b[0mstr\u001b[0m\u001b[0;34m)\u001b[0m\u001b[0;34m:\u001b[0m\u001b[0;34m\u001b[0m\u001b[0;34m\u001b[0m\u001b[0m\n\u001b[1;32m    208\u001b[0m           \u001b[0;32mif\u001b[0m \u001b[0;32mnot\u001b[0m \u001b[0mtf\u001b[0m\u001b[0;34m.\u001b[0m\u001b[0mio\u001b[0m\u001b[0;34m.\u001b[0m\u001b[0mgfile\u001b[0m\u001b[0;34m.\u001b[0m\u001b[0mexists\u001b[0m\u001b[0;34m(\u001b[0m\u001b[0mfilepath\u001b[0m\u001b[0;34m)\u001b[0m\u001b[0;34m:\u001b[0m\u001b[0;34m\u001b[0m\u001b[0;34m\u001b[0m\u001b[0m\n\u001b[0;32m--> 209\u001b[0;31m             \u001b[0;32mraise\u001b[0m \u001b[0mIOError\u001b[0m\u001b[0;34m(\u001b[0m\u001b[0;34mf'No file or directory found at {filepath}'\u001b[0m\u001b[0;34m)\u001b[0m\u001b[0;34m\u001b[0m\u001b[0;34m\u001b[0m\u001b[0m\n\u001b[0m\u001b[1;32m    210\u001b[0m           \u001b[0;32mif\u001b[0m \u001b[0msaving_utils\u001b[0m\u001b[0;34m.\u001b[0m\u001b[0mis_hdf5_filepath\u001b[0m\u001b[0;34m(\u001b[0m\u001b[0mfilepath\u001b[0m\u001b[0;34m)\u001b[0m \u001b[0;32mand\u001b[0m \u001b[0mh5py\u001b[0m \u001b[0;32mis\u001b[0m \u001b[0;32mNone\u001b[0m\u001b[0;34m:\u001b[0m\u001b[0;34m\u001b[0m\u001b[0;34m\u001b[0m\u001b[0m\n\u001b[1;32m    211\u001b[0m             raise ImportError(\n",
            "\u001b[0;31mOSError\u001b[0m: No file or directory found at /content/drive/MyDrive/lab3/X2_model.h5"
          ]
        }
      ]
    },
    {
      "cell_type": "code",
      "source": [
        "class G(keras.Model):\n",
        "  def __init__(self, bad_m, bad_pm):\n",
        "      super(G,self).__init__()\n",
        "      self.bad_m = bad_m\n",
        "      self.bad_pm = bad_pm\n",
        "\n",
        "  def predict(self,inputX):\n",
        "      bad_m_y = np.argmax(self.bad_m.predict(inputX), axis=1)\n",
        "      bad_pm_y = np.argmax(self.bad_pm.predict(inputX), axis=1)\n",
        "      y = np.zeros(len(bad_m_y))\n",
        "      for i in range(len(bad_m_y)):\n",
        "        if bad_m_y[i] != bad_pm_y[i]:\n",
        "          y[i] = 1284  \n",
        "        else:\n",
        "          y[i] = bad_m_y[i]\n",
        "      return y"
      ],
      "metadata": {
        "id": "WpLpoX4o1ucF"
      },
      "execution_count": null,
      "outputs": []
    },
    {
      "cell_type": "code",
      "source": [
        "#X=2%, 4%, 10% model evaluation\n",
        "for model in [X2_model, X4_model, X10_model]:\n",
        "  model = G(bad_model, model)\n",
        "  clean_label_p = model.predict(clean_x_test)\n",
        "  clean_accuracy = np.mean(np.equal(clean_label_p, clean_y_test))*100\n",
        "  print('Clean Classification accuracy:', clean_accuracy)\n",
        "  \n",
        "  bad_label_p = model.predict(bad_x_test)\n",
        "  asr = np.mean(np.equal(bad_label_p, bad_y_test))*100\n",
        "  print('Attack Success Rate:', asr)"
      ],
      "metadata": {
        "id": "19e2lrBvxmdL"
      },
      "execution_count": null,
      "outputs": []
    },
    {
      "cell_type": "code",
      "source": [
        "#plot\n",
        "x_axis = np.arange(1,61)/60\n",
        "plt.title(\" Accuracy and attack success rate after prunning\")\n",
        "plt.xlabel(\"Prunning for (%)\")\n",
        "plt.ylabel(\"Rate (%)\")\n",
        "plt.plot(x_axis,temp_acc,label=\"accuracy\")\n",
        "plt.plot(x_axis,asr_rate,label=\"attack accuracy rate\")\n",
        "plt.legend(loc=\"lower left\")\n",
        "plt.show()"
      ],
      "metadata": {
        "id": "uecU8W6tN-Nu"
      },
      "execution_count": null,
      "outputs": []
    },
    {
      "cell_type": "markdown",
      "source": [
        "Clean Classification accuracy: 95.61790941370053\n",
        "X=2%, Attack Success Rate: 100.0\n",
        "\n",
        "Clean Classification accuracy: 91.85935740885078\n",
        "X=4%, Attack Success Rate: 99.9913397419243\n",
        "\n",
        "Clean Classification accuracy: 84.24699056031871\n",
        "X=10%, Attack Success Rate: 77.015675067117"
      ],
      "metadata": {
        "id": "EJH_pb11zcCa"
      }
    }
  ]
}