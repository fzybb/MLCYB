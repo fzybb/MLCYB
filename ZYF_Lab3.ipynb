{
  "nbformat": 4,
  "nbformat_minor": 0,
  "metadata": {
    "colab": {
      "name": "ZYF_Lab3.ipynb",
      "provenance": [],
      "collapsed_sections": [],
      "machine_shape": "hm"
    },
    "kernelspec": {
      "name": "python3",
      "display_name": "Python 3"
    },
    "language_info": {
      "name": "python"
    },
    "accelerator": "GPU"
  },
  "cells": [
    {
      "cell_type": "code",
      "source": [
        "import os\n",
        "import sys\n",
        "import keras\n",
        "import keras.backend as K\n",
        "from keras import metrics\n",
        "from numpy.lib.arraysetops import unique\n",
        "import gdown\n",
        "import numpy as np\n",
        "import tempfile\n",
        "import copy\n",
        "import h5py\n",
        "import tensorflow as tf\n",
        "import matplotlib.pyplot as plt\n",
        "import warnings\n",
        "\n",
        "from google.colab import drive\n",
        "drive.mount('/content/drive')"
      ],
      "metadata": {
        "colab": {
          "base_uri": "https://localhost:8080/"
        },
        "id": "fOZ_9A9Jx37B",
        "outputId": "16c6e504-ec5a-421e-e18c-a0948d83639d"
      },
      "execution_count": 16,
      "outputs": [
        {
          "output_type": "stream",
          "name": "stdout",
          "text": [
            "Drive already mounted at /content/drive; to attempt to forcibly remount, call drive.mount(\"/content/drive\", force_remount=True).\n"
          ]
        }
      ]
    },
    {
      "cell_type": "code",
      "source": [
        "def data_loader(filepath):\n",
        "    data = h5py.File(filepath, 'r')\n",
        "    x = np.array(data['data']).transpose((0,2,3,1))\n",
        "    y = np.array(data['label'])\n",
        "    return x, y"
      ],
      "metadata": {
        "id": "4XYpJgP99UHZ"
      },
      "execution_count": 17,
      "outputs": []
    },
    {
      "cell_type": "code",
      "source": [
        "#Data Loading\n",
        "clean_x_test, clean_y_test = data_loader('/content/drive/MyDrive/lab3/valid.h5')\n",
        "bad_x_test, bad_y_test = data_loader('/content/drive/MyDrive/lab3/bd_valid.h5')\n",
        "bd_test, bd_test_l = data_loader('/content/drive/MyDrive/lab3/bd_test.h5')\n",
        "test, test_l = data_loader('/content/drive/MyDrive/lab3/test.h5')\n",
        "\n",
        "bad_model = keras.models.load_model('/content/drive/MyDrive/lab3/bd_net.h5')"
      ],
      "metadata": {
        "id": "sdP7e7P69Mjz"
      },
      "execution_count": 18,
      "outputs": []
    },
    {
      "cell_type": "code",
      "source": [
        "ori_clean_acc = 0\n",
        "def evaluation(model, clean_x_test, clean_y_test, bad_x_test, bad_y_test):\n",
        "    clean_label_p = np.argmax(model.predict(clean_x_test),axis=1)\n",
        "    ori_clean_acc = np.mean(np.equal(clean_label_p, clean_y_test))*100\n",
        "    print('Original Clean accuracy:', ori_clean_acc)\n",
        "    \n",
        "    bad_label_p = np.argmax(model.predict(bad_x_test),axis=1)\n",
        "    asr = np.mean(np.equal(bad_label_p, bad_y_test))*100\n",
        "    print('Attack Success Rate:', asr)\n",
        "    return ori_clean_acc"
      ],
      "metadata": {
        "id": "KjIE0d9mQg59"
      },
      "execution_count": 19,
      "outputs": []
    },
    {
      "cell_type": "code",
      "source": [
        "ori_clean_acc = evaluation(bad_model, clean_x_test, clean_y_test, bad_x_test, bad_y_test)\n",
        "print(bad_model.summary())"
      ],
      "metadata": {
        "colab": {
          "base_uri": "https://localhost:8080/"
        },
        "id": "pScZelR2QZQC",
        "outputId": "5c4fc572-35aa-45be-eaaf-48cc3ab33526"
      },
      "execution_count": 20,
      "outputs": [
        {
          "output_type": "stream",
          "name": "stdout",
          "text": [
            "Original Clean accuracy: 98.64899974019225\n",
            "Attack Success Rate: 100.0\n",
            "Model: \"model_1\"\n",
            "__________________________________________________________________________________________________\n",
            " Layer (type)                   Output Shape         Param #     Connected to                     \n",
            "==================================================================================================\n",
            " input (InputLayer)             [(None, 55, 47, 3)]  0           []                               \n",
            "                                                                                                  \n",
            " conv_1 (Conv2D)                (None, 52, 44, 20)   980         ['input[0][0]']                  \n",
            "                                                                                                  \n",
            " pool_1 (MaxPooling2D)          (None, 26, 22, 20)   0           ['conv_1[0][0]']                 \n",
            "                                                                                                  \n",
            " conv_2 (Conv2D)                (None, 24, 20, 40)   7240        ['pool_1[0][0]']                 \n",
            "                                                                                                  \n",
            " pool_2 (MaxPooling2D)          (None, 12, 10, 40)   0           ['conv_2[0][0]']                 \n",
            "                                                                                                  \n",
            " conv_3 (Conv2D)                (None, 10, 8, 60)    21660       ['pool_2[0][0]']                 \n",
            "                                                                                                  \n",
            " pool_3 (MaxPooling2D)          (None, 5, 4, 60)     0           ['conv_3[0][0]']                 \n",
            "                                                                                                  \n",
            " conv_4 (Conv2D)                (None, 4, 3, 80)     19280       ['pool_3[0][0]']                 \n",
            "                                                                                                  \n",
            " flatten_1 (Flatten)            (None, 1200)         0           ['pool_3[0][0]']                 \n",
            "                                                                                                  \n",
            " flatten_2 (Flatten)            (None, 960)          0           ['conv_4[0][0]']                 \n",
            "                                                                                                  \n",
            " fc_1 (Dense)                   (None, 160)          192160      ['flatten_1[0][0]']              \n",
            "                                                                                                  \n",
            " fc_2 (Dense)                   (None, 160)          153760      ['flatten_2[0][0]']              \n",
            "                                                                                                  \n",
            " add_1 (Add)                    (None, 160)          0           ['fc_1[0][0]',                   \n",
            "                                                                  'fc_2[0][0]']                   \n",
            "                                                                                                  \n",
            " activation_1 (Activation)      (None, 160)          0           ['add_1[0][0]']                  \n",
            "                                                                                                  \n",
            " output (Dense)                 (None, 1283)         206563      ['activation_1[0][0]']           \n",
            "                                                                                                  \n",
            "==================================================================================================\n",
            "Total params: 601,643\n",
            "Trainable params: 601,643\n",
            "Non-trainable params: 0\n",
            "__________________________________________________________________________________________________\n",
            "None\n"
          ]
        }
      ]
    },
    {
      "cell_type": "code",
      "source": [
        "# Prunning\n",
        "bad_model_copied = keras.models.clone_model(bad_model)\n",
        "bad_model_copied.load_weights('/content/drive/MyDrive/lab3/bd_weights.h5') "
      ],
      "metadata": {
        "id": "ztF_fB5XuYOi"
      },
      "execution_count": 21,
      "outputs": []
    },
    {
      "cell_type": "code",
      "source": [
        "output=bad_model_copied.layers[6].output\n",
        "prediction=keras.models.Model(inputs=bad_model_copied.input,outputs=output).predict(clean_x_test)  \n",
        "channels = np.argsort(np.mean(prediction,axis=(0,1,2)))\n",
        "temp_acc = []\n",
        "asr_rate = []\n",
        "flag2 = 1\n",
        "flag4 = 1\n",
        "flag10 = 1\n",
        "zeroWeight = bad_model_copied.layers[5].get_weights()[0]\n",
        "zeroBias = bad_model_copied.layers[5].get_weights()[1]\n",
        "\n",
        "for i in channels:\n",
        "  zeroWeight[:,:,:,i] = 0\n",
        "  zeroBias[i] = 0\n",
        "  bad_model_copied.layers[5].set_weights([zeroWeight,zeroBias])\n",
        "  temp_accuracy = np.mean(np.equal(np.argmax(bad_model_copied.predict(clean_x_test), axis=1), clean_y_test))*100\n",
        "  asr = np.mean(np.equal(np.argmax(bad_model_copied.predict(bad_x_test), axis=1), bad_y_test))*100\n",
        "  temp_acc.append(temp_accuracy)\n",
        "  asr_rate.append(asr)\n",
        "  print(\"channel \",i,\": \",\"The accuracy: \",temp_accuracy,\"  The atk_rate: \",asr)\n",
        "\n",
        "  drop = ori_clean_acc - temp_accuracy\n",
        "  if drop >= 2 and flag2:\n",
        "    bad_model_copied.save('/content/drive/MyDrive/lab3/X2_model.h5')\n",
        "    flag2 = 0\n",
        "    print('X2_model saved')\n",
        "  if drop >= 4 and flag4:\n",
        "    bad_model_copied.save('/content/drive/MyDrive/lab3/X4_model.h5')\n",
        "    flag4 = 0\n",
        "    print('X4_model saved')\n",
        "  if drop >= 10 and flag10:\n",
        "    bad_model_copied.save('/content/drive/MyDrive/lab3/X10_model.h5')\n",
        "    flag10 = 0\n",
        "    print('X10_model saved')\n",
        "  keras.backend.clear_session()"
      ],
      "metadata": {
        "id": "4U_G8gNO8JYK",
        "colab": {
          "base_uri": "https://localhost:8080/"
        },
        "outputId": "712c7f41-8949-4daf-e4f3-605fcb51197c"
      },
      "execution_count": 22,
      "outputs": [
        {
          "output_type": "stream",
          "name": "stdout",
          "text": [
            "channel  0 :  The accuracy:  98.64899974019225   The atk_rate:  100.0\n",
            "channel  26 :  The accuracy:  98.64899974019225   The atk_rate:  100.0\n",
            "channel  27 :  The accuracy:  98.64899974019225   The atk_rate:  100.0\n",
            "channel  30 :  The accuracy:  98.64899974019225   The atk_rate:  100.0\n",
            "channel  31 :  The accuracy:  98.64899974019225   The atk_rate:  100.0\n",
            "channel  33 :  The accuracy:  98.64899974019225   The atk_rate:  100.0\n",
            "channel  34 :  The accuracy:  98.64899974019225   The atk_rate:  100.0\n",
            "channel  36 :  The accuracy:  98.64899974019225   The atk_rate:  100.0\n",
            "channel  37 :  The accuracy:  98.64899974019225   The atk_rate:  100.0\n",
            "channel  38 :  The accuracy:  98.64899974019225   The atk_rate:  100.0\n",
            "channel  25 :  The accuracy:  98.64899974019225   The atk_rate:  100.0\n",
            "channel  39 :  The accuracy:  98.64899974019225   The atk_rate:  100.0\n",
            "channel  41 :  The accuracy:  98.64899974019225   The atk_rate:  100.0\n",
            "channel  44 :  The accuracy:  98.64899974019225   The atk_rate:  100.0\n",
            "channel  45 :  The accuracy:  98.64899974019225   The atk_rate:  100.0\n",
            "channel  47 :  The accuracy:  98.64899974019225   The atk_rate:  100.0\n",
            "channel  48 :  The accuracy:  98.64899974019225   The atk_rate:  100.0\n",
            "channel  49 :  The accuracy:  98.64899974019225   The atk_rate:  100.0\n",
            "channel  50 :  The accuracy:  98.64899974019225   The atk_rate:  100.0\n",
            "channel  53 :  The accuracy:  98.64899974019225   The atk_rate:  100.0\n",
            "channel  55 :  The accuracy:  98.64899974019225   The atk_rate:  100.0\n",
            "channel  40 :  The accuracy:  98.64899974019225   The atk_rate:  100.0\n",
            "channel  24 :  The accuracy:  98.64899974019225   The atk_rate:  100.0\n",
            "channel  59 :  The accuracy:  98.64899974019225   The atk_rate:  100.0\n",
            "channel  9 :  The accuracy:  98.64899974019225   The atk_rate:  100.0\n",
            "channel  2 :  The accuracy:  98.64899974019225   The atk_rate:  100.0\n",
            "channel  12 :  The accuracy:  98.64899974019225   The atk_rate:  100.0\n",
            "channel  13 :  The accuracy:  98.64899974019225   The atk_rate:  100.0\n",
            "channel  17 :  The accuracy:  98.64899974019225   The atk_rate:  100.0\n",
            "channel  14 :  The accuracy:  98.64899974019225   The atk_rate:  100.0\n",
            "channel  15 :  The accuracy:  98.64899974019225   The atk_rate:  100.0\n",
            "channel  23 :  The accuracy:  98.64899974019225   The atk_rate:  100.0\n",
            "channel  6 :  The accuracy:  98.64899974019225   The atk_rate:  100.0\n",
            "channel  51 :  The accuracy:  98.64033948211657   The atk_rate:  100.0\n",
            "channel  32 :  The accuracy:  98.64033948211657   The atk_rate:  100.0\n",
            "channel  22 :  The accuracy:  98.63167922404088   The atk_rate:  100.0\n",
            "channel  21 :  The accuracy:  98.65765999826795   The atk_rate:  100.0\n",
            "channel  20 :  The accuracy:  98.64899974019225   The atk_rate:  100.0\n",
            "channel  19 :  The accuracy:  98.6056984498138   The atk_rate:  100.0\n",
            "channel  43 :  The accuracy:  98.57105741751104   The atk_rate:  100.0\n",
            "channel  58 :  The accuracy:  98.53641638520828   The atk_rate:  100.0\n",
            "channel  3 :  The accuracy:  98.19000606218066   The atk_rate:  100.0\n",
            "channel  42 :  The accuracy:  97.65307006148784   The atk_rate:  100.0\n",
            "channel  1 :  The accuracy:  97.50584567420108   The atk_rate:  100.0\n",
            "channel  29 :  The accuracy:  95.75647354291158   The atk_rate:  100.0\n",
            "WARNING:tensorflow:Compiled the loaded model, but the compiled metrics have yet to be built. `model.compile_metrics` will be empty until you train or evaluate the model.\n",
            "X2_model saved\n"
          ]
        },
        {
          "output_type": "stream",
          "name": "stderr",
          "text": [
            "/usr/local/lib/python3.7/dist-packages/keras/engine/functional.py:1410: CustomMaskWarning: Custom mask layers require a config and must override get_config. When loading, the custom mask layer must be passed to the custom_objects argument.\n",
            "  layer_config = serialize_layer_fn(layer)\n"
          ]
        },
        {
          "output_type": "stream",
          "name": "stdout",
          "text": [
            "channel  16 :  The accuracy:  95.20221702606739   The atk_rate:  99.9913397419243\n",
            "channel  56 :  The accuracy:  94.7172425738287   The atk_rate:  99.9913397419243\n",
            "channel  46 :  The accuracy:  92.09318437689443   The atk_rate:  99.9913397419243\n",
            "WARNING:tensorflow:Compiled the loaded model, but the compiled metrics have yet to be built. `model.compile_metrics` will be empty until you train or evaluate the model.\n",
            "X4_model saved\n",
            "channel  5 :  The accuracy:  91.49562656967177   The atk_rate:  99.9913397419243\n",
            "channel  8 :  The accuracy:  91.01931237550879   The atk_rate:  99.98267948384861\n",
            "channel  11 :  The accuracy:  89.17467740538669   The atk_rate:  80.73958603966398\n",
            "channel  54 :  The accuracy:  84.43751623798389   The atk_rate:  77.015675067117\n",
            "WARNING:tensorflow:Compiled the loaded model, but the compiled metrics have yet to be built. `model.compile_metrics` will be empty until you train or evaluate the model.\n",
            "X10_model saved\n",
            "channel  10 :  The accuracy:  76.48739932449988   The atk_rate:  35.71490430414826\n",
            "channel  28 :  The accuracy:  54.8627349095003   The atk_rate:  6.954187234779596\n",
            "channel  35 :  The accuracy:  27.08928726076037   The atk_rate:  0.4243526457088421\n",
            "channel  18 :  The accuracy:  13.87373343725643   The atk_rate:  0.0\n",
            "channel  4 :  The accuracy:  7.101411622066338   The atk_rate:  0.0\n",
            "channel  7 :  The accuracy:  1.5501861955486274   The atk_rate:  0.0\n",
            "channel  52 :  The accuracy:  0.7188014202823244   The atk_rate:  0.0\n",
            "channel  57 :  The accuracy:  0.0779423226812159   The atk_rate:  0.0\n"
          ]
        }
      ]
    },
    {
      "cell_type": "code",
      "source": [
        "#Good Net\n",
        "unique_y = set(clean_y_test)  \n",
        "print(len(unique_y))"
      ],
      "metadata": {
        "id": "nvailCEpw0-8",
        "colab": {
          "base_uri": "https://localhost:8080/"
        },
        "outputId": "0905a691-8382-4c35-a413-a18da7cd7a5a"
      },
      "execution_count": 23,
      "outputs": [
        {
          "output_type": "stream",
          "name": "stdout",
          "text": [
            "1283\n"
          ]
        }
      ]
    },
    {
      "cell_type": "code",
      "source": [
        "X2_model = keras.models.load_model('/content/drive/MyDrive/lab3/X2_model.h5')\n",
        "X4_model = keras.models.load_model('/content/drive/MyDrive/lab3/X4_model.h5')\n",
        "X10_model = keras.models.load_model('/content/drive/MyDrive/lab3/X10_model.h5')\n",
        "evaluation(X2_model,test,test_l,bd_test,bd_test_l)\n",
        "evaluation(X4_model,test,test_l,bd_test,bd_test_l)\n",
        "evaluation(X10_model,test,test_l,bd_test,bd_test_l)"
      ],
      "metadata": {
        "id": "koMWVIHiMovI",
        "colab": {
          "base_uri": "https://localhost:8080/"
        },
        "outputId": "eaae1413-4a92-4306-b63d-e0a080f28183"
      },
      "execution_count": 24,
      "outputs": [
        {
          "output_type": "stream",
          "name": "stdout",
          "text": [
            "WARNING:tensorflow:No training configuration found in the save file, so the model was *not* compiled. Compile it manually.\n",
            "WARNING:tensorflow:No training configuration found in the save file, so the model was *not* compiled. Compile it manually.\n",
            "WARNING:tensorflow:No training configuration found in the save file, so the model was *not* compiled. Compile it manually.\n",
            "Original Clean accuracy: 95.90023382696803\n",
            "Attack Success Rate: 100.0\n",
            "Original Clean accuracy: 92.29150428682775\n",
            "Attack Success Rate: 99.98441153546376\n",
            "Original Clean accuracy: 84.54403741231489\n",
            "Attack Success Rate: 77.20966484801247\n"
          ]
        },
        {
          "output_type": "execute_result",
          "data": {
            "text/plain": [
              "84.54403741231489"
            ]
          },
          "metadata": {},
          "execution_count": 24
        }
      ]
    },
    {
      "cell_type": "code",
      "source": [
        "class G(keras.Model):\n",
        "  def __init__(self, bad_m, bad_pm):\n",
        "      super(G,self).__init__()\n",
        "      self.bad_m = bad_m\n",
        "      self.bad_pm = bad_pm\n",
        "\n",
        "  def predict(self,inputX):\n",
        "      bad_m_y = np.argmax(self.bad_m.predict(inputX), axis=1)\n",
        "      bad_pm_y = np.argmax(self.bad_pm.predict(inputX), axis=1)\n",
        "      y = np.zeros(len(bad_m_y))\n",
        "      for i in range(len(bad_m_y)):\n",
        "        if bad_m_y[i] != bad_pm_y[i]:\n",
        "          y[i] = 1284  \n",
        "        else:\n",
        "          y[i] = bad_m_y[i]\n",
        "      return y"
      ],
      "metadata": {
        "id": "WpLpoX4o1ucF"
      },
      "execution_count": 25,
      "outputs": []
    },
    {
      "cell_type": "code",
      "source": [
        "#X=2%, 4%, 10% model evaluation\n",
        "for model in [X2_model, X4_model, X10_model]:\n",
        "  model = G(bad_model, model)\n",
        "  clean_label_p = model.predict(clean_x_test)\n",
        "  clean_accuracy = np.mean(np.equal(clean_label_p, clean_y_test))*100\n",
        "  print('Clean Classification accuracy:', clean_accuracy)\n",
        "  \n",
        "  bad_label_p = model.predict(bad_x_test)\n",
        "  asr = np.mean(np.equal(bad_label_p, bad_y_test))*100\n",
        "  print('Attack Success Rate:', asr)"
      ],
      "metadata": {
        "id": "19e2lrBvxmdL",
        "colab": {
          "base_uri": "https://localhost:8080/"
        },
        "outputId": "7a6efba2-8a64-4092-b079-e9bc0d59b867"
      },
      "execution_count": 26,
      "outputs": [
        {
          "output_type": "stream",
          "name": "stdout",
          "text": [
            "Clean Classification accuracy: 95.61790941370053\n",
            "Attack Success Rate: 100.0\n",
            "Clean Classification accuracy: 91.85935740885078\n",
            "Attack Success Rate: 99.9913397419243\n",
            "Clean Classification accuracy: 84.24699056031871\n",
            "Attack Success Rate: 77.015675067117\n"
          ]
        }
      ]
    },
    {
      "cell_type": "code",
      "source": [
        "#plot\n",
        "plt.title(\" Accuracy and attack success rate after prunning\")\n",
        "plt.xlabel(\"Prunning for (%)\")\n",
        "plt.ylabel(\"Rate (%)\")\n",
        "plt.plot(x_axis,temp_acc,label=\"accuracy\")\n",
        "plt.plot(x_axis,asr_rate,label=\"attack accuracy rate\")\n",
        "plt.legend(loc=\"lower left\")\n",
        "plt.show()"
      ],
      "metadata": {
        "id": "uecU8W6tN-Nu",
        "colab": {
          "base_uri": "https://localhost:8080/",
          "height": 295
        },
        "outputId": "c26ac18c-5e61-41ab-b427-b6facc6bbc8b"
      },
      "execution_count": 28,
      "outputs": [
        {
          "output_type": "display_data",
          "data": {
            "image/png": "[encoded data removed]",
            "text/plain": [
              "<Figure size 432x288 with 1 Axes>"
            ]
          },
          "metadata": {
            "needs_background": "light"
          }
        }
      ]
    },
    {
      "cell_type": "markdown",
      "source": [
        "Clean Classification accuracy: 95.61790941370053\n",
        "X=2%, Attack Success Rate: 100.0\n",
        "\n",
        "Clean Classification accuracy: 91.85935740885078\n",
        "X=4%, Attack Success Rate: 99.9913397419243\n",
        "\n",
        "Clean Classification accuracy: 84.24699056031871\n",
        "X=10%, Attack Success Rate: 77.015675067117"
      ],
      "metadata": {
        "id": "EJH_pb11zcCa"
      }
    }
  ]
}